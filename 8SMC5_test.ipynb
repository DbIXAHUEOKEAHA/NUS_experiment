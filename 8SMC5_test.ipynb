{
 "cells": [
  {
   "cell_type": "code",
   "execution_count": 1,
   "id": "98930392",
   "metadata": {},
   "outputs": [
    {
     "name": "stderr",
     "output_type": "stream",
     "text": [
      "WARNING: Skipping libximc as it is not installed.\n"
     ]
    },
    {
     "name": "stdout",
     "output_type": "stream",
     "text": [
      "Defaulting to user installation because normal site-packages is not writeable\n",
      "Collecting libximc\n",
      "  Downloading libximc-2.13.6-20-py3-none-any.whl (19.0 MB)\n",
      "     --------------------------------------- 19.0/19.0 MB 13.1 MB/s eta 0:00:00\n",
      "Installing collected packages: libximc\n",
      "Successfully installed libximc-2.13.6\n"
     ]
    }
   ],
   "source": [
    "#!pip uninstall libximc -y\n",
    "#!pip install libximc --no-cache-dir"
   ]
  },
  {
   "cell_type": "code",
   "execution_count": 4,
   "id": "89ec659f",
   "metadata": {},
   "outputs": [
    {
     "name": "stdout",
     "output_type": "stream",
     "text": [
      "Connecting the libximc library OK\n"
     ]
    },
    {
     "data": {
      "text/plain": [
       "<WinDLL 'C:\\Users\\e0974196.NUSSTU\\AppData\\Roaming\\Python\\Python39\\site-packages\\libximc\\win64\\libximc.dll', handle 180000000 at 0x272b6c91f40>"
      ]
     },
     "execution_count": 4,
     "metadata": {},
     "output_type": "execute_result"
    }
   ],
   "source": [
    "import libximc\n",
    "print(\"Connecting the libximc library OK\")\n",
    "libximc.lib"
   ]
  },
  {
   "cell_type": "code",
   "execution_count": 5,
   "id": "ab190d55",
   "metadata": {},
   "outputs": [
    {
     "name": "stdout",
     "output_type": "stream",
     "text": [
      "Connecting additional dependencies\n"
     ]
    }
   ],
   "source": [
    "# Connecting additional dependencies\n",
    "import tempfile\n",
    "import urllib\n",
    "import re\n",
    "import time\n",
    "import matplotlib.pyplot as plt\n",
    "%matplotlib inline\n",
    "from libximc import *\n",
    "from ctypes import *\n",
    "print(\"Connecting additional dependencies\")"
   ]
  },
  {
   "cell_type": "code",
   "execution_count": 6,
   "id": "fbd1fa8b",
   "metadata": {},
   "outputs": [
    {
     "name": "stdout",
     "output_type": "stream",
     "text": [
      "Library loaded\n",
      "Library version: 2.13.6\n"
     ]
    }
   ],
   "source": [
    "# variable 'lib' points to a loaded library\n",
    "# note that ximc uses stdcall on win\n",
    "print(\"Library loaded\")\n",
    "sbuf = create_string_buffer(64)\n",
    "lib.ximc_version(sbuf)\n",
    "print(\"Library version: \" + sbuf.raw.decode().rstrip(\"\\0\"))"
   ]
  },
  {
   "cell_type": "code",
   "execution_count": 7,
   "id": "c18250a0",
   "metadata": {},
   "outputs": [],
   "source": [
    "# Set name a virtual controller\n",
    "tempdir = tempfile.gettempdir() + \"/testdevice.bin\"\n",
    "uri = urllib.parse.urlunparse(urllib.parse.ParseResult(scheme=\"file\", \\\n",
    "            netloc=None, path=tempdir, params=None, query=None, fragment=None))\n",
    "open_name = re.sub(r'^file', 'xi-emu', uri).encode()"
   ]
  },
  {
   "cell_type": "code",
   "execution_count": 8,
   "id": "c912a506",
   "metadata": {},
   "outputs": [
    {
     "name": "stdout",
     "output_type": "stream",
     "text": [
      "b'The controller is open/xi-emu:///C:\\\\Users\\\\E09741~1.NUS\\\\AppData\\\\Local\\\\Temp/testdevice.bin'\n",
      "Device id: 1\n"
     ]
    }
   ],
   "source": [
    "# Open controller\n",
    "tupevirt = 1;\n",
    "device_id = lib.open_device(open_name)\n",
    "if device_id > 0:\n",
    "    print(b\"The controller is open/\" + open_name)\n",
    "    print(\"Device id: \" + repr(device_id))\n",
    "    if 'xi-emu' in str(open_name):\n",
    "        tupevirt = 0;\n",
    "else:\n",
    "    print(b\"It was not possible to open the \" + open_name + b\" libximc controller\")"
   ]
  },
  {
   "cell_type": "code",
   "execution_count": 9,
   "id": "986a3e03",
   "metadata": {},
   "outputs": [
    {
     "name": "stdout",
     "output_type": "stream",
     "text": [
      "Device information:\n",
      " Manufacturer: 'XIMC'\n",
      " ManufacturerId: 'SM'\n",
      " ProductDescription: 'XISM-USB'\n",
      " Major: 0\n",
      " Minor: 0\n",
      " Release: 0\n"
     ]
    }
   ],
   "source": [
    "# Output of information about the device\n",
    "if device_id<=0:\n",
    "    print(\"Before performing actions with the controller, it must be selected from one of the blocks 2-4 and opened in block 5.\")\n",
    "else:    \n",
    "    x_device_information = device_information_t()\n",
    "    result = lib.get_device_information(device_id, byref(x_device_information))\n",
    "    if result == Result.Ok:\n",
    "            print(\"Device information:\")\n",
    "            print(\" Manufacturer: \" +\n",
    "                    repr(string_at(x_device_information.Manufacturer).decode()))\n",
    "            print(\" ManufacturerId: \" +\n",
    "                    repr(string_at(x_device_information.ManufacturerId).decode()))\n",
    "            print(\" ProductDescription: \" +\n",
    "                    repr(string_at(x_device_information.ProductDescription).decode()))\n",
    "            print(\" Major: \" + repr(x_device_information.Major))\n",
    "            print(\" Minor: \" + repr(x_device_information.Minor))\n",
    "            print(\" Release: \" + repr(x_device_information.Release))"
   ]
  },
  {
   "cell_type": "code",
   "execution_count": 10,
   "id": "d0c7cac7",
   "metadata": {},
   "outputs": [
    {
     "name": "stdout",
     "output_type": "stream",
     "text": [
      "\n",
      "Reading serial\n",
      "Serial: 0\n"
     ]
    }
   ],
   "source": [
    "# Output serial number\n",
    "if device_id<=0:\n",
    "    print(\"Before performing actions with the controller, it must be selected from one of the blocks 2-4 and opened in block 5.\")\n",
    "else: \n",
    "    print(\"\\nReading serial\")\n",
    "    x_serial = c_uint()\n",
    "    result = lib.get_serial_number(device_id, byref(x_serial))\n",
    "    if result == Result.Ok:\n",
    "        print(\"Serial: \" + repr(x_serial.value))"
   ]
  },
  {
   "cell_type": "code",
   "execution_count": 11,
   "id": "3baa052c",
   "metadata": {},
   "outputs": [
    {
     "name": "stdout",
     "output_type": "stream",
     "text": [
      "\n",
      "Reading firmware version\n",
      "Major: 0\n",
      "Minor: 0\n",
      "Release: 0\n"
     ]
    }
   ],
   "source": [
    "# Output firmware version\n",
    "if device_id<=0:\n",
    "    print(\"Before performing actions with the controller, it must be selected from one of the blocks 2-4 and opened in block 5.\")\n",
    "else: \n",
    "    print(\"\\nReading firmware version\")\n",
    "    x_Major = c_uint()\n",
    "    x_Minor = c_uint()\n",
    "    x_Release = c_uint()\n",
    "    result = lib.get_firmware_version (device_id, byref(x_Major), byref(x_Minor), byref(x_Release));\n",
    "    if result == Result.Ok:\n",
    "        print(\"Major: \" + repr(x_Major.value))\n",
    "        print(\"Minor: \" + repr(x_Minor.value))\n",
    "        print(\"Release: \" + repr(x_Release.value))"
   ]
  },
  {
   "cell_type": "code",
   "execution_count": 12,
   "id": "3f091d70",
   "metadata": {},
   "outputs": [
    {
     "name": "stdout",
     "output_type": "stream",
     "text": [
      "Setting user units by default\n"
     ]
    }
   ],
   "source": [
    "# Basic configuration of user units\n",
    "if device_id<=0:\n",
    "    print(\"Before performing actions with the controller, it must be selected from one of the blocks 2-4 and opened in block 5.\")\n",
    "else:\n",
    "    print(\"Setting user units by default\")\n",
    "    \n",
    "# Create engine settings structure\n",
    "eng = engine_settings_t()\n",
    "result = lib.get_engine_settings(device_id, byref(eng))\n",
    "\n",
    "# Create user unit settings structure\n",
    "user_unit = calibration_t()\n",
    "user_unit.MicrostepMode = eng.MicrostepMode\n",
    "user_unit.A = 1;"
   ]
  },
  {
   "cell_type": "code",
   "execution_count": 13,
   "id": "b0c3421d",
   "metadata": {},
   "outputs": [
    {
     "name": "stdout",
     "output_type": "stream",
     "text": [
      "Loading a set of basic functions\n"
     ]
    }
   ],
   "source": [
    "# A set of basic functions\n",
    "if device_id<=0:\n",
    "    print(\"Before performing actions with the controller, it must be selected from one of the blocks 2-4 and opened in block 5.\")\n",
    "else:\n",
    "    print(\"Loading a set of basic functions\")\n",
    "\n",
    "\n",
    "def input_new(s=\"\"):\n",
    "    \"\"\"\n",
    "    Wrapper for the data entry function.\n",
    "    \n",
    "    :param s:  Description of the input value(Default value = \"\")\n",
    "    \"\"\"\n",
    "    \n",
    "    return input(s)\n",
    "\n",
    "\n",
    "def test_user_unit_mode(lib, device_id):\n",
    "    \"\"\"\n",
    "    User unit mode settings\n",
    "    \n",
    "    After setting this multiplier, you can use special commands with the suffix _calb to set the movement in mm or degrees.\n",
    "    Follow the on-screen instructions to change the settings.\n",
    "    \n",
    "    :param lib: structure for accessing the functionality of the libximc library.\n",
    "    :param device_id: device id.\n",
    "    \"\"\"\n",
    "\n",
    "    print(\"\\nUser unit mode settings.\")\n",
    "    print(\"User unit coordinate multiplier = {0} \\n\".format(user_unit.A) )\n",
    "    try:\n",
    "        fl_val = float(input_new(\"Set new coordinate multiplier = \"))\n",
    "        if fl_val>0:\n",
    "            user_unit.A = fl_val\n",
    "        else:\n",
    "            print(\"The multiplier cannot be less than or equal to 0.\")\n",
    "        # user_unit.MicrostepMode the value is set together with eng.MicrostepMode\n",
    "\n",
    "    except:\n",
    "        print(\"User unit coordinate multiplier = \", user_unit.A )\n",
    "\n",
    "        \n",
    "def test_get_position(lib, device_id, mode=1):\n",
    "    \"\"\"\n",
    "    Obtaining information about the position of the positioner.\n",
    "    \n",
    "    This function allows you to get information about the current positioner coordinates,\n",
    "    both in steps and in encoder counts, if it is set.\n",
    "    Also, depending on the state of the mode parameter, information can be obtained in user units.\n",
    "    \n",
    "    :param lib: structure for accessing the functionality of the libximc library.\n",
    "    :param device_id: device id.\n",
    "    :param mode: mode in feedback counts or in user units. (Default value = 1)\n",
    "    \"\"\"\n",
    "    moveStatus = status_MvCmdSts(lib, device_id)\n",
    "    # print(\"\\nRead position\")\n",
    "    if mode:\n",
    "        x_pos = get_position_t()\n",
    "        result = lib.get_position(device_id, byref(x_pos))\n",
    "        if result == Result.Ok:\n",
    "            print(\"Position: {0} steps, {1} microsteps // Move status {1}, Movr status {2}                 \".format(x_pos.Position, x_pos.uPosition, moveStatus[0], moveStatus[1]),  end=\"\\r\")\n",
    "        return x_pos.Position, x_pos.uPosition\n",
    "    else:\n",
    "        x_pos = get_position_calb_t()\n",
    "        result = lib.get_position_calb(device_id, byref(x_pos), byref(user_unit))\n",
    "        if result == Result.Ok:\n",
    "            print(\"Position: {0} user unit // Move status {1}, Movr status {2}                 \".format(x_pos.Position, moveStatus[0], moveStatus[1]),  end=\"\\r\")\n",
    "        return x_pos.Position, 0\n",
    "\n",
    "def test_move(lib, device_id, distance, udistance, mode=1):\n",
    "    \"\"\"\n",
    "    Move to the specified coordinate.\n",
    "\n",
    "    Depending on the mode parameter, you can set coordinates in steps or feedback counts, or in custom units.\n",
    "    \n",
    "    :param lib: structure for accessing the functionality of the libximc library.\n",
    "    :param device_id: device id.\n",
    "    :param distance: the position of the destination.\n",
    "    :param udistance: destination position in micro steps if this mode is used.\n",
    "    :param mode:  mode in feedback counts or in user units. (Default value = 1)\n",
    "    \"\"\"\n",
    "    \n",
    "    if mode:\n",
    "        print(\"\\nGoing to {0} steps, {1} microsteps\".format(distance, udistance))\n",
    "        result = lib.command_move(device_id, distance, udistance)\n",
    "    else:\n",
    "        # udistance is not used for setting movement in custom units.\n",
    "        print(\"\\nMove to the position {0} specified in user units.\".format(distance))\n",
    "        result = lib.command_move_calb(device_id, c_float(distance), byref(user_unit))\n",
    "        \n",
    "def test_movr(lib, device_id, distance, udistance, mode=1):\n",
    "    \"\"\"\n",
    "    The shift by the specified offset coordinates.\n",
    "    \n",
    "    Depending on the mode parameter, you can set coordinates in steps or feedback counts, or in custom units.\n",
    "    \n",
    "    :param lib: structure for accessing the functionality of the libximc library.\n",
    "    :param device_id: device id.\n",
    "    :param distance: size of the offset in steps.\n",
    "    :param udistance: Size of the offset in micro steps.\n",
    "    :param mode:  (Default value = 1)\n",
    "    \"\"\"\n",
    "    \n",
    "    if mode:\n",
    "        print(\"\\nShift to {0} steps, {1} microsteps\".format(distance, udistance))\n",
    "        result = lib.command_movr(device_id, distance, udistance)\n",
    "    else:\n",
    "        # udistance is not used for setting movement in custom units.\n",
    "        print(\"\\nShift to the position {0} specified in user units.\".format(distance))\n",
    "        result = lib.command_movr_calb(device_id, c_float(distance), byref(user_unit))\n",
    "\n",
    "def get_status(lib, device_id):\n",
    "    \"\"\"\n",
    "    A function of reading status information from the device\n",
    "\n",
    "    You can use this function to get basic information about the device status.\n",
    "    \n",
    "    :param lib: structure for accessing the functionality of the libximc library.\n",
    "    :param device_id:  device id.\n",
    "    \"\"\"\n",
    "    \n",
    "    x_status = status_t()\n",
    "    result = lib.get_status(device_id, byref(x_status))\n",
    "    if result == Result.Ok:\n",
    "        return x_status\n",
    "    else:\n",
    "        return None\n",
    "    \n",
    "def status_MvCmdSts_MVCMD_RUNNING(lib, device_id):\n",
    "    currStatus = get_status(lib, device_id)\n",
    "    return (currStatus.MvCmdSts & MvcmdStatus.MVCMD_RUNNING) # 0x80) # )\n",
    "\n",
    "def status_MvCmdSts(lib, device_id):\n",
    "    currStatus = get_status(lib, device_id)\n",
    "    \"\"\"\n",
    "    MVCMD_MOVE         = 0x01\n",
    "    MVCMD_MOVR         = 0x02\n",
    "    MVCMD_LEFT         = 0x03\n",
    "    MVCMD_RIGHT        = 0x04\n",
    "    MVCMD_STOP         = 0x05\n",
    "    MVCMD_HOME         = 0x06\n",
    "    MVCMD_LOFT         = 0x07\n",
    "    MVCMD_SSTP         = 0x08\n",
    "    MVCMD_ERROR        = 0x40\n",
    "    MVCMD_RUNNING      = 0x80\n",
    "    \"\"\"\n",
    "    return (currStatus.MvCmdSts & MvcmdStatus.MVCMD_MOVE), (currStatus.MvCmdSts & MvcmdStatus.MVCMD_MOVR), (currStatus.MvCmdSts & MvcmdStatus.MVCMD_LEFT),\n",
    "    (currStatus.MvCmdSts & MvcmdStatus.MVCMD_RIGHT), (currStatus.MvCmdSts & MvcmdStatus.MVCMD_STOP), (currStatus.MvCmdSts & MvcmdStatus.MVCMD_HOME),\n",
    "    (currStatus.MvCmdSts & MvcmdStatus.MVCMD_LOFT), (currStatus.MvCmdSts & MvcmdStatus.MVCMD_SSTP), (currStatus.MvCmdSts & MvcmdStatus.MVCMD_ERROR),\n",
    "    (currStatus.MvCmdSts & MvcmdStatus.MVCMD_RUNNING)\n",
    "    \n",
    "def status_StateFlags(lib, device_id):\n",
    "    currStatus = get_status(lib, device_id)\n",
    "    \"\"\"\n",
    "    STATE_IS_HOMED                  = 0x0000020\n",
    "    STATE_ALARM                     = 0x0000040\n",
    "    STATE_CTP_ERROR                 = 0x0000080\n",
    "    STATE_POWER_OVERHEAT            = 0x0000100\n",
    "    STATE_CONTROLLER_OVERHEAT       = 0x0000200\n",
    "    STATE_OVERLOAD_POWER_VOLTAGE    = 0x0000400\n",
    "    STATE_OVERLOAD_POWER_CURRENT    = 0x0000800\n",
    "    STATE_OVERLOAD_USB_VOLTAGE      = 0x0001000\n",
    "    STATE_LOW_USB_VOLTAGE           = 0x0002000\n",
    "    STATE_OVERLOAD_USB_CURRENT      = 0x0004000\n",
    "    STATE_BORDERS_SWAP_MISSET       = 0x0008000\n",
    "    STATE_LOW_POWER_VOLTAGE         = 0x0010000\n",
    "    STATE_H_BRIDGE_FAULT            = 0x0020000\n",
    "    STATE_WINDING_RES_MISMATCH      = 0x0100000\n",
    "    STATE_ENCODER_FAULT             = 0x0200000\n",
    "    STATE_ENGINE_RESPONSE_ERROR     = 0x0800000\n",
    "    STATE_EXTIO_ALARM               = 0x1000000\n",
    "    \"\"\"\n",
    "    \n",
    "    print(\"\")\n",
    "    if (currStatus.Flags & StateFlags.STATE_IS_HOMED):\n",
    "        print(\" True:STATE_IS_HOMED \")\n",
    "    else:\n",
    "        print(\"False:STATE_IS_HOMED \")\n",
    "\n",
    "    if (currStatus.Flags & StateFlags.STATE_ALARM):\n",
    "        print(\" True:STATE_ALARM\")\n",
    "    else:\n",
    "        print(\"False:STATE_ALARM\")\n",
    "\n",
    "    if (currStatus.Flags & StateFlags.STATE_CTP_ERROR):\n",
    "        print(\" True:STATE_CTP_ERROR\")\n",
    "    else:\n",
    "        print(\"False:STATE_CTP_ERROR\")\n",
    "\n",
    "    if (currStatus.Flags & StateFlags.STATE_POWER_OVERHEAT):\n",
    "        print(\" True:STATE_POWER_OVERHEAT\")\n",
    "    else:\n",
    "        print(\"False:STATE_POWER_OVERHEAT\")\n",
    "\n",
    "    if (currStatus.Flags & StateFlags.STATE_OVERLOAD_POWER_VOLTAGE):\n",
    "        print(\" True:STATE_OVERLOAD_POWER_VOLTAGE\")\n",
    "    else:\n",
    "        print(\"False:STATE_OVERLOAD_POWER_VOLTAGE\")\n",
    "\n",
    "    if (currStatus.Flags & StateFlags.STATE_OVERLOAD_POWER_CURRENT):\n",
    "        print(\" True:STATE_OVERLOAD_POWER_CURRENT\")\n",
    "    else:\n",
    "        print(\"False:STATE_OVERLOAD_POWER_CURRENT\")\n",
    "\n",
    "    if (currStatus.Flags & StateFlags.STATE_OVERLOAD_USB_VOLTAGE):\n",
    "        print(\" True:STATE_OVERLOAD_USB_VOLTAGE\")\n",
    "    else:\n",
    "        print(\"False:STATE_OVERLOAD_USB_VOLTAGE\")\n",
    "\n",
    "    if (currStatus.Flags & StateFlags.STATE_LOW_USB_VOLTAGE):\n",
    "        print(\" True:STATE_LOW_USB_VOLTAGE\")\n",
    "    else:\n",
    "        print(\"False:STATE_LOW_USB_VOLTAGE\")\n",
    "\n",
    "    if (currStatus.Flags & StateFlags.STATE_OVERLOAD_USB_CURRENT):\n",
    "        print(\" True:STATE_OVERLOAD_USB_CURRENT\")\n",
    "    else:\n",
    "        print(\"False:STATE_OVERLOAD_USB_CURRENT\")\n",
    "    if (currStatus.Flags & StateFlags.STATE_BORDERS_SWAP_MISSET):\n",
    "        print(\" True:STATE_BORDERS_SWAP_MISSET\")\n",
    "    else:\n",
    "        print(\"False:STATE_BORDERS_SWAP_MISSET\")\n",
    "\n",
    "    if (currStatus.Flags & StateFlags.STATE_LOW_POWER_VOLTAGE):\n",
    "        print(\" True:STATE_LOW_POWER_VOLTAGE\")\n",
    "    else:\n",
    "        print(\"False:STATE_LOW_POWER_VOLTAGE\")\n",
    "\n",
    "    if (currStatus.Flags & StateFlags.STATE_H_BRIDGE_FAULT):\n",
    "        print(\" True:STATE_H_BRIDGE_FAULT\")\n",
    "    else:\n",
    "        print(\"False:STATE_H_BRIDGE_FAULT\")\n",
    "        \n",
    "    if (currStatus.Flags & StateFlags.STATE_WINDING_RES_MISMATCH):\n",
    "        print(\" True:STATE_WINDING_RES_MISMATCH\")\n",
    "    else:\n",
    "        print(\"False:STATE_WINDING_RES_MISMATCH\")\n",
    "        \n",
    "    if (currStatus.Flags & StateFlags.STATE_ENCODER_FAULT):\n",
    "        print(\" True:STATE_ENCODER_FAULT\")\n",
    "    else:\n",
    "        print(\"False:STATE_ENCODER_FAULT\")\n",
    "        \n",
    "    if (currStatus.Flags & StateFlags.STATE_ENGINE_RESPONSE_ERROR):\n",
    "        print(\" True:STATE_ENGINE_RESPONSE_ERROR\")\n",
    "    else:\n",
    "        print(\"False:STATE_ENGINE_RESPONSE_ERROR\")\n",
    "        \n",
    "    if (currStatus.Flags & StateFlags.STATE_EXTIO_ALARM):\n",
    "        print(\" True:STATE_EXTIO_ALARM\")\n",
    "    else:\n",
    "        print(\"False:STATE_EXTIO_ALARM\")\n",
    "        \n",
    "def plot_move(deltatime):\n",
    "    x = []\n",
    "    y = []\n",
    "    time1 = 0;\n",
    "    while status_MvCmdSts_MVCMD_RUNNING(lib, device_id):\n",
    "        x.append(time1)\n",
    "        y.append(test_get_position(lib, device_id, userMode)[0])\n",
    "        # print(y)\n",
    "        time1 += deltatime \n",
    "        time.sleep(deltatime)\n",
    "        if tupevirt:\n",
    "            plt.plot(x, y)\n",
    "            \n"
   ]
  },
  {
   "cell_type": "code",
   "execution_count": 14,
   "id": "cac534b2",
   "metadata": {},
   "outputs": [
    {
     "name": "stdout",
     "output_type": "stream",
     "text": [
      "Set user unit mode 1-steps, 0-user units = 1\n"
     ]
    }
   ],
   "source": [
    "# Customizing User Units\n",
    "if device_id<=0:\n",
    "    print(\"Before performing actions with the controller, it must be selected from one of the blocks 2-4 and opened in block 5.\")\n",
    "else:\n",
    "    userMode = int(input_new(\"Set user unit mode 1-steps, 0-user units = \"))\n",
    "    if userMode == 0:\n",
    "        test_user_unit_mode(lib, device_id)"
   ]
  },
  {
   "cell_type": "code",
   "execution_count": 15,
   "id": "5b4f7a49",
   "metadata": {},
   "outputs": [
    {
     "name": "stdout",
     "output_type": "stream",
     "text": [
      "Set the 'Move to' position in step mode = 1\n",
      "\n",
      "Going to 1 steps, 0 microsteps\n",
      "Position: 1 steps, 0 microsteps // Move status 0, Movr status 1                 \n",
      "False:STATE_IS_HOMED \n",
      "False:STATE_ALARM\n",
      "False:STATE_CTP_ERROR\n",
      "False:STATE_POWER_OVERHEAT\n",
      "False:STATE_OVERLOAD_POWER_VOLTAGE\n",
      "False:STATE_OVERLOAD_POWER_CURRENT\n",
      "False:STATE_OVERLOAD_USB_VOLTAGE\n",
      "False:STATE_LOW_USB_VOLTAGE\n",
      "False:STATE_OVERLOAD_USB_CURRENT\n",
      "False:STATE_BORDERS_SWAP_MISSET\n",
      "False:STATE_LOW_POWER_VOLTAGE\n",
      "False:STATE_H_BRIDGE_FAULT\n",
      "False:STATE_WINDING_RES_MISMATCH\n",
      "False:STATE_ENCODER_FAULT\n",
      "False:STATE_ENGINE_RESPONSE_ERROR\n",
      "False:STATE_EXTIO_ALARM\n"
     ]
    }
   ],
   "source": [
    "# Move to a given position\n",
    "if device_id<=0:\n",
    "    print(\"Before performing actions with the controller, it must be selected from one of the blocks 2-4 and opened in block 5.\")\n",
    "else:\n",
    "    if userMode:\n",
    "        position = int(input_new(\"Set the 'Move to' position in step mode = \"))\n",
    "    else:\n",
    "        position = int(input_new(\"Set the 'Move to' position in user units mode = \"))\n",
    "\n",
    "    test_move(lib, device_id, position, 0, userMode)\n",
    "\n",
    "    plot_move(0.125)\n",
    "\n",
    "    status_StateFlags(lib, device_id)"
   ]
  },
  {
   "cell_type": "code",
   "execution_count": 16,
   "id": "8f5bc2fb",
   "metadata": {},
   "outputs": [
    {
     "name": "stdout",
     "output_type": "stream",
     "text": [
      "Set the 'Move to' position in step mode = 1\n",
      "\n",
      "Shift to 1 steps, 0 microsteps\n",
      "Position: 2 steps, 0 microsteps // Move status 0, Movr status 0                 \n",
      "False:STATE_IS_HOMED \n",
      "False:STATE_ALARM\n",
      "False:STATE_CTP_ERROR\n",
      "False:STATE_POWER_OVERHEAT\n",
      "False:STATE_OVERLOAD_POWER_VOLTAGE\n",
      "False:STATE_OVERLOAD_POWER_CURRENT\n",
      "False:STATE_OVERLOAD_USB_VOLTAGE\n",
      "False:STATE_LOW_USB_VOLTAGE\n",
      "False:STATE_OVERLOAD_USB_CURRENT\n",
      "False:STATE_BORDERS_SWAP_MISSET\n",
      "False:STATE_LOW_POWER_VOLTAGE\n",
      "False:STATE_H_BRIDGE_FAULT\n",
      "False:STATE_WINDING_RES_MISMATCH\n",
      "False:STATE_ENCODER_FAULT\n",
      "False:STATE_ENGINE_RESPONSE_ERROR\n",
      "False:STATE_EXTIO_ALARM\n"
     ]
    }
   ],
   "source": [
    "# Shift on by a given amount\n",
    "if device_id<=0:\n",
    "    print(\"Before performing actions with the controller, it must be selected from one of the blocks 2-4 and opened in block 5.\")\n",
    "else:\n",
    "    if userMode:\n",
    "        offset = int(input_new(\"Set the 'Move to' position in step mode = \"))\n",
    "    else:\n",
    "        offset = int(input_new(\"Set the 'Shift on' position in user units mode = \"))\n",
    "\n",
    "    test_movr(lib, device_id, offset,  0, userMode)\n",
    "    plot_move(0.125)\n",
    "\n",
    "    status_StateFlags(lib, device_id)\n",
    "    "
   ]
  },
  {
   "cell_type": "code",
   "execution_count": 17,
   "id": "7852db87",
   "metadata": {},
   "outputs": [
    {
     "name": "stdout",
     "output_type": "stream",
     "text": [
      "Emergency stop with alarm reset\n"
     ]
    }
   ],
   "source": [
    "# Emergency stop with alarm reset\n",
    "lib.command_stop(device_id)\n",
    "print(\"Emergency stop with alarm reset\")\n"
   ]
  },
  {
   "cell_type": "code",
   "execution_count": 18,
   "id": "7a04af3e",
   "metadata": {},
   "outputs": [
    {
     "name": "stdout",
     "output_type": "stream",
     "text": [
      "\n",
      "Closing\n",
      "Done\n"
     ]
    }
   ],
   "source": [
    "print(\"\\nClosing\")\n",
    "\n",
    "# The device_t device parameter in this function is a C pointer, unlike most library functions that use this parameter\n",
    "lib.close_device(byref(cast(device_id, POINTER(c_int))))\n",
    "device_id = -1;\n",
    "print(\"Done\")"
   ]
  },
  {
   "cell_type": "code",
   "execution_count": null,
   "id": "58a30529",
   "metadata": {},
   "outputs": [],
   "source": []
  }
 ],
 "metadata": {
  "kernelspec": {
   "display_name": "Python 3 (ipykernel)",
   "language": "python",
   "name": "python3"
  },
  "language_info": {
   "codemirror_mode": {
    "name": "ipython",
    "version": 3
   },
   "file_extension": ".py",
   "mimetype": "text/x-python",
   "name": "python",
   "nbconvert_exporter": "python",
   "pygments_lexer": "ipython3",
   "version": "3.9.13"
  }
 },
 "nbformat": 4,
 "nbformat_minor": 5
}
